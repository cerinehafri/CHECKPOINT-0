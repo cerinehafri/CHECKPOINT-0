{
 "cells": [
  {
   "cell_type": "code",
   "execution_count": 1,
   "id": "5533a4a1",
   "metadata": {},
   "outputs": [
    {
     "name": "stdout",
     "output_type": "stream",
     "text": [
      "Welcome to Python world!Let's start coding\n"
     ]
    }
   ],
   "source": [
    "print(\"Welcome to Python world!Let's start coding\")\n"
   ]
  },
  {
   "cell_type": "markdown",
   "id": "1c5c7bd8",
   "metadata": {},
   "source": [
    "my python is version 3.9.12"
   ]
  },
  {
   "cell_type": "code",
   "execution_count": null,
   "id": "34363db9",
   "metadata": {},
   "outputs": [],
   "source": []
  }
 ],
 "metadata": {
  "kernelspec": {
   "display_name": "Python 3 (ipykernel)",
   "language": "python",
   "name": "python3"
  },
  "language_info": {
   "codemirror_mode": {
    "name": "ipython",
    "version": 3
   },
   "file_extension": ".py",
   "mimetype": "text/x-python",
   "name": "python",
   "nbconvert_exporter": "python",
   "pygments_lexer": "ipython3",
   "version": "3.9.12"
  }
 },
 "nbformat": 4,
 "nbformat_minor": 5
}
